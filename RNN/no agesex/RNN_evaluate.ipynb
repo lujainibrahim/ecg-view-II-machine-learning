{
 "cells": [
  {
   "cell_type": "markdown",
   "metadata": {},
   "source": [
    "# RNN Evaluation"
   ]
  },
  {
   "cell_type": "markdown",
   "metadata": {},
   "source": [
    "From our paper on \"Explainable Prediction of Acute Myocardial Infarction using Machine Learning and Shapley Values\""
   ]
  },
  {
   "cell_type": "code",
   "execution_count": 4,
   "metadata": {},
   "outputs": [],
   "source": [
    "# Import libraries\n",
    "from keras import optimizers, losses, activations, models\n",
    "from keras.callbacks import ModelCheckpoint, EarlyStopping, LearningRateScheduler, ReduceLROnPlateau\n",
    "from keras.layers import Layer, GRU, LSTM, Dense, Input, Dropout, Convolution1D, MaxPool1D, GlobalMaxPool1D, GlobalAveragePooling1D, \\\n",
    "    concatenate\n",
    "from keras.layers import LeakyReLU\n",
    "from keras import regularizers, backend, initializers\n",
    "from keras.models import Sequential\n",
    "from keras.utils import to_categorical\n",
    "from keras.initializers import Ones, Zeros\n",
    "import keras.backend as K\n",
    "from keras.models import load_model\n",
    "\n",
    "from sklearn.metrics import f1_score, accuracy_score, roc_auc_score, confusion_matrix\n",
    "from sklearn import preprocessing\n",
    "\n",
    "import time\n",
    "import gc\n",
    "import pandas as pd\n",
    "import numpy as np\n",
    "import pylab as plt\n",
    "import tensorflow as tf\n",
    "from numpy import loadtxt\n",
    "from numpy import savetxt\n",
    "from tensorflow.python.framework import ops\n",
    "print(tf.__version__)\n",
    "\n",
    "# Visualization libraries\n",
    "import seaborn as sns"
   ]
  },
  {
   "cell_type": "markdown",
   "metadata": {},
   "source": [
    "# Loading Data"
   ]
  },
  {
   "cell_type": "code",
   "execution_count": null,
   "metadata": {},
   "outputs": [],
   "source": [
    "# Load data\n",
    "train = loadtxt('train.csv', delimiter=',')\n",
    "test = loadtxt('test.csv', delimiter=',')\n",
    "\n",
    "# Split array\n",
    "train_x = train[:,:11]\n",
    "test_x = test[:,:11]\n",
    "train_y = train[:,11]\n",
    "test_y = test[:,11]\n",
    "\n",
    "train_x_noageandsex = train_x[:,:9]\n",
    "test_x_noageandsex = test_x[:,:9]\n",
    "train_y_noageandsex = train_y\n",
    "test_y_noageandsex = test_y"
   ]
  },
  {
   "cell_type": "code",
   "execution_count": 6,
   "metadata": {},
   "outputs": [],
   "source": [
    "class LayerNormalization(Layer):\n",
    "    def __init__(self, eps=1e-6, **kwargs):\n",
    "        self.eps = eps\n",
    "        super(LayerNormalization, self).__init__(**kwargs)\n",
    "    def build(self, input_shape):\n",
    "        self.gamma = self.add_weight(name='gamma', shape=input_shape[-1:],\n",
    "                                     initializer=Ones(), trainable=True)\n",
    "        self.beta = self.add_weight(name='beta', shape=input_shape[-1:],\n",
    "                                    initializer=Zeros(), trainable=True)\n",
    "        super(LayerNormalization, self).build(input_shape)\n",
    "    def call(self, x):\n",
    "        mean = K.mean(x, axis=-1, keepdims=True)\n",
    "        std = K.std(x, axis=-1, keepdims=True)\n",
    "        return self.gamma * (x - mean) / (std + self.eps) + self.beta\n",
    "    def compute_output_shape(self, input_shape):\n",
    "        return input_shape\n",
    "\n",
    "X_train_noageandsex = np.reshape(train_x_noageandsex, (train_x_noageandsex.shape[0], 1, train_x_noageandsex.shape[1]))\n",
    "X_test_noageandsex = np.reshape(test_x_noageandsex, (test_x_noageandsex.shape[0], 1, test_x_noageandsex.shape[1]))\n",
    "train_y_noageandsex = to_categorical(train_y_noageandsex)"
   ]
  },
  {
   "cell_type": "markdown",
   "metadata": {},
   "source": [
    "# Model Evaluation + Confusion Matrix"
   ]
  },
  {
   "cell_type": "code",
   "execution_count": 8,
   "metadata": {
    "scrolled": true
   },
   "outputs": [
    {
     "name": "stdout",
     "output_type": "stream",
     "text": [
      "Model: \"sequential_1\"\n",
      "_________________________________________________________________\n",
      "Layer (type)                 Output Shape              Param #   \n",
      "=================================================================\n",
      "gru_1 (GRU)                  (None, 1, 10)             600       \n",
      "_________________________________________________________________\n",
      "layer_normalization_1 (Layer (None, 1, 10)             20        \n",
      "_________________________________________________________________\n",
      "leaky_re_lu_1 (LeakyReLU)    (None, 1, 10)             0         \n",
      "_________________________________________________________________\n",
      "gru_2 (GRU)                  (None, 1, 9)              540       \n",
      "_________________________________________________________________\n",
      "layer_normalization_2 (Layer (None, 1, 9)              18        \n",
      "_________________________________________________________________\n",
      "leaky_re_lu_2 (LeakyReLU)    (None, 1, 9)              0         \n",
      "_________________________________________________________________\n",
      "gru_3 (GRU)                  (None, 1, 7)              357       \n",
      "_________________________________________________________________\n",
      "layer_normalization_3 (Layer (None, 1, 7)              14        \n",
      "_________________________________________________________________\n",
      "leaky_re_lu_3 (LeakyReLU)    (None, 1, 7)              0         \n",
      "_________________________________________________________________\n",
      "gru_4 (GRU)                  (None, 1, 5)              195       \n",
      "_________________________________________________________________\n",
      "layer_normalization_4 (Layer (None, 1, 5)              10        \n",
      "_________________________________________________________________\n",
      "leaky_re_lu_4 (LeakyReLU)    (None, 1, 5)              0         \n",
      "_________________________________________________________________\n",
      "gru_5 (GRU)                  (None, 1, 4)              120       \n",
      "_________________________________________________________________\n",
      "layer_normalization_5 (Layer (None, 1, 4)              8         \n",
      "_________________________________________________________________\n",
      "leaky_re_lu_5 (LeakyReLU)    (None, 1, 4)              0         \n",
      "_________________________________________________________________\n",
      "gru_6 (GRU)                  (None, 3)                 72        \n",
      "_________________________________________________________________\n",
      "layer_normalization_6 (Layer (None, 3)                 6         \n",
      "_________________________________________________________________\n",
      "leaky_re_lu_6 (LeakyReLU)    (None, 3)                 0         \n",
      "_________________________________________________________________\n",
      "dense_1 (Dense)              (None, 2)                 8         \n",
      "=================================================================\n",
      "Total params: 1,968\n",
      "Trainable params: 1,968\n",
      "Non-trainable params: 0\n",
      "_________________________________________________________________\n"
     ]
    },
    {
     "name": "stderr",
     "output_type": "stream",
     "text": [
      "C:\\ProgramData\\Anaconda3\\lib\\site-packages\\ipykernel_launcher.py:6: DeprecationWarning: time.clock has been deprecated in Python 3.3 and will be removed from Python 3.8: use time.perf_counter or time.process_time instead\n",
      "  \n"
     ]
    },
    {
     "name": "stdout",
     "output_type": "stream",
     "text": [
      "Time for prediction: 8.034883099999888 \n",
      "Test f1 score : 0.770089366791743 \n",
      "Test ROC AUC Score : 0.7633939364867299 \n",
      "Test accuracy score : 0.8013578169027402 \n"
     ]
    },
    {
     "name": "stderr",
     "output_type": "stream",
     "text": [
      "C:\\ProgramData\\Anaconda3\\lib\\site-packages\\ipykernel_launcher.py:8: DeprecationWarning: time.clock has been deprecated in Python 3.3 and will be removed from Python 3.8: use time.perf_counter or time.process_time instead\n",
      "  \n"
     ]
    }
   ],
   "source": [
    "model = load_model('model_noageandsex1_final.h5', custom_objects={'LayerNormalization': LayerNormalization})\n",
    "model.summary()\n",
    "\n",
    "# Test the model\n",
    "start = time.clock() \n",
    "pred_test = model.predict(X_test_noageandsex)\n",
    "end = time.clock()\n",
    "pred_test = np.argmax(pred_test, axis=-1)\n",
    "print(\"Time for prediction: {} \".format((end-start))) \n",
    "\n",
    "# Get f1 score\n",
    "f1 = f1_score(test_y, pred_test, average=\"macro\")\n",
    "print(\"Test f1 score : %s \"% f1)\n",
    "\n",
    "# Get ROC AUC score\n",
    "roc = roc_auc_score(test_y_noageandsex, pred_test)\n",
    "print(\"Test ROC AUC Score : %s \"% roc)\n",
    "\n",
    "# Get the accuracy \n",
    "acc = accuracy_score(test_y_noageandsex, pred_test)\n",
    "print(\"Test accuracy score : %s \"% acc)\n",
    "\n",
    "# Get the specificity\n",
    "tn, fp, fn, tp = confusion_matrix(test_y_noageandsex, pred_test).ravel()\n",
    "specificity = tn / (tn+fp)\n",
    "print(\"Specificity : %s \"% specificity)\n",
    "\n",
    "# Get the sensitivity\n",
    "sensitivity= tp / (tp+fn)\n",
    "print(\"Sensitivity: %s \"% sensitivity)"
   ]
  },
  {
   "cell_type": "code",
   "execution_count": 9,
   "metadata": {},
   "outputs": [
    {
     "data": {
      "image/png": "[encoded data removed]",
      "text/plain": [
       "<Figure size 432x288 with 2 Axes>"
      ]
     },
     "metadata": {
      "needs_background": "light"
     },
     "output_type": "display_data"
    }
   ],
   "source": [
    "# Confusion matrix\n",
    "confusion = confusion_matrix(test_y_noageandsex, pred_test)\n",
    "sns.heatmap(data=confusion, annot=True, xticklabels=[\"MI\", \"Not MI\"], yticklabels=[\"MI\", \"Not MI\"], fmt = \"d\", annot_kws={\"fontsize\":16})\n",
    "plt.ylabel('Actual')\n",
    "plt.xlabel('Predicted')\n",
    "plt.yticks(va=\"center\")\n",
    "plt.show()"
   ]
  }
 ],
 "metadata": {
  "kernelspec": {
   "display_name": "Python 3",
   "language": "python",
   "name": "python3"
  },
  "language_info": {
   "codemirror_mode": {
    "name": "ipython",
    "version": 3
   },
   "file_extension": ".py",
   "mimetype": "text/x-python",
   "name": "python",
   "nbconvert_exporter": "python",
   "pygments_lexer": "ipython3",
   "version": "3.7.1"
  }
 },
 "nbformat": 4,
 "nbformat_minor": 4
}
