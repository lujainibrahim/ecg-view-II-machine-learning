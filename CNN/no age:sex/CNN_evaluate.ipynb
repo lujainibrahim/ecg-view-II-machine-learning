{
 "cells": [
  {
   "cell_type": "markdown",
   "metadata": {},
   "source": [
    "# CNN Evaluation"
   ]
  },
  {
   "cell_type": "markdown",
   "metadata": {},
   "source": [
    "From a paper on \"Explainable Prediction of Acute Myocardial Infarction using Machine Learning and Shapley Values\""
   ]
  },
  {
   "cell_type": "code",
   "execution_count": 1,
   "metadata": {},
   "outputs": [
    {
     "name": "stderr",
     "output_type": "stream",
     "text": [
      "Using TensorFlow backend.\n"
     ]
    }
   ],
   "source": [
    "# Import libraries\n",
    "import pandas as pd\n",
    "import numpy as np\n",
    "import pylab as plt\n",
    "from keras import optimizers, losses, activations, models, regularizers\n",
    "from keras.callbacks import ModelCheckpoint, EarlyStopping, LearningRateScheduler, ReduceLROnPlateau\n",
    "from keras.layers import Dense, Input, Dropout, Convolution1D, MaxPool1D, Flatten, GlobalMaxPool1D, GlobalAveragePooling1D, \\\n",
    "    concatenate\n",
    "from keras.utils import to_categorical\n",
    "from keras.models import load_model, Sequential\n",
    "from sklearn.metrics import f1_score, accuracy_score, roc_auc_score, confusion_matrix\n",
    "import seaborn as sns\n",
    "import time"
   ]
  },
  {
   "cell_type": "markdown",
   "metadata": {},
   "source": [
    "# Loading Data"
   ]
  },
  {
   "cell_type": "code",
   "execution_count": 2,
   "metadata": {},
   "outputs": [],
   "source": [
    "# Load data\n",
    "# Import train and test data into dataframes from csv files produced using the data processing code\n",
    "df_cnn_train = pd.read_csv(\"train_noagesex.csv\", header=None)\n",
    "df_cnn_train = df_cnn_train.sample(frac=1)\n",
    "df_cnn_test = pd.read_csv(\"test_noagesex.csv\", header=None)"
   ]
  },
  {
   "cell_type": "code",
   "execution_count": 3,
   "metadata": {},
   "outputs": [],
   "source": [
    "# Get data from dataframes\n",
    "y_cnn = np.array(df_cnn_train[9].values).astype(np.int8)\n",
    "y_cnn=to_categorical(y_cnn)\n",
    "x_cnn = np.array(df_cnn_train[list(range(9))].values)[..., np.newaxis]\n",
    "y_cnn_test = np.array(df_cnn_test[9].values).astype(np.int8)\n",
    "x_cnn_test = np.array(df_cnn_test[list(range(9))].values)[..., np.newaxis]"
   ]
  },
  {
   "cell_type": "markdown",
   "metadata": {},
   "source": [
    "# Model Evaluation + Confusion Matrix"
   ]
  },
  {
   "cell_type": "code",
   "execution_count": 4,
   "metadata": {},
   "outputs": [
    {
     "name": "stdout",
     "output_type": "stream",
     "text": [
      "--- inference time of 5.000738143920898 seconds ---\n",
      "Test f1 score : 0.8559013975121876 \n",
      "Test ROC AUC score : 0.8650519295421595 \n",
      "Test accuracy score : 0.8689460844569677 \n",
      "Specificity : 0.8766989328080046 \n",
      "Sensitivity: 0.8534049262763147 \n"
     ]
    }
   ],
   "source": [
    "start_time = time.time()\n",
    "\n",
    "model = load_model('cnn_ecgview_noagesex.h5')\n",
    "\n",
    "y_pred = model.predict(x_cnn_test)\n",
    "y_pred = np.argmax(y_pred, axis=-1)\n",
    "\n",
    "print(\"--- inference time of %s seconds ---\" % (time.time() - start_time))\n",
    "\n",
    "# Get F1 score\n",
    "f1 = f1_score(y_cnn_test, y_pred, average=\"macro\")\n",
    "print(\"Test f1 score : %s \"% f1)\n",
    "\n",
    "# Get ROC AUC\n",
    "roc = roc_auc_score(y_cnn_test, y_pred)\n",
    "print(\"Test ROC AUC score : %s \"% roc)\n",
    "\n",
    "# Get the accuracy \n",
    "acc = accuracy_score(y_cnn_test, y_pred)\n",
    "print(\"Test accuracy score : %s \"% acc)\n",
    "\n",
    "# Get the specificity\n",
    "tn, fp, fn, tp = confusion_matrix(y_cnn_test, y_pred).ravel()\n",
    "specificity = tn / (tn+fp)\n",
    "print(\"Specificity : %s \"% specificity)\n",
    "\n",
    "# Get the sensitivity\n",
    "sensitivity= tp / (tp+fn)\n",
    "print(\"Sensitivity: %s \"% sensitivity)"
   ]
  },
  {
   "cell_type": "code",
   "execution_count": 6,
   "metadata": {},
   "outputs": [
    {
     "data": {
      "image/png": "[encoded data removed]",
      "text/plain": [
       "<Figure size 432x288 with 2 Axes>"
      ]
     },
     "metadata": {
      "needs_background": "light"
     },
     "output_type": "display_data"
    }
   ],
   "source": [
    "# Get the confusion matrix\n",
    "confusion = confusion_matrix(y_cnn_test, y_pred)\n",
    "sns.heatmap(data=confusion, annot=True, xticklabels=[\"MI\", \"NotMI\"], yticklabels=[\"MI\", \"NotMI\"], fmt = \"d\", annot_kws={\"fontsize\":16})\n",
    "plt.ylabel('Actual')\n",
    "plt.xlabel('Predicted')\n",
    "plt.yticks(va=\"center\")\n",
    "plt.show()"
   ]
  }
 ],
 "metadata": {
  "kernelspec": {
   "display_name": "Python 3",
   "language": "python",
   "name": "python3"
  },
  "language_info": {
   "codemirror_mode": {
    "name": "ipython",
    "version": 3
   },
   "file_extension": ".py",
   "mimetype": "text/x-python",
   "name": "python",
   "nbconvert_exporter": "python",
   "pygments_lexer": "ipython3",
   "version": "3.7.1"
  }
 },
 "nbformat": 4,
 "nbformat_minor": 2
}
