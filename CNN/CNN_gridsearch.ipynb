{
 "cells": [
  {
   "cell_type": "markdown",
   "metadata": {},
   "source": [
    "## CNN Grid Search"
   ]
  },
  {
   "cell_type": "markdown",
   "metadata": {},
   "source": [
    "From our paper on \"Explainable Prediction of Acute Myocardial Infarction using Machine Learning and Shapley Values\""
   ]
  },
  {
   "cell_type": "code",
   "execution_count": 9,
   "metadata": {},
   "outputs": [],
   "source": [
    "import pandas as pd\n",
    "import numpy as np\n",
    "import pylab as plt\n",
    "from keras import optimizers, losses, activations, models, regularizers\n",
    "from keras.callbacks import ModelCheckpoint, EarlyStopping, LearningRateScheduler, ReduceLROnPlateau\n",
    "from keras.layers import Dense, Input, Dropout, Convolution1D, MaxPool1D, Flatten, GlobalMaxPool1D, GlobalAveragePooling1D, \\\n",
    "    concatenate\n",
    "from keras.utils import to_categorical\n",
    "from keras.models import load_model, Sequential\n",
    "from sklearn.metrics import f1_score, accuracy_score, roc_auc_score, confusion_matrix\n",
    "from keras.wrappers.scikit_learn import KerasClassifier\n",
    "from numpy import loadtxt\n",
    "from sklearn.model_selection import GridSearchCV"
   ]
  },
  {
   "cell_type": "code",
   "execution_count": 10,
   "metadata": {},
   "outputs": [],
   "source": [
    "# Load array\n",
    "train = loadtxt('train.csv', delimiter=',')\n",
    "test = loadtxt('test.csv', delimiter=',')\n",
    "\n",
    "# Split array\n",
    "train_x = train[:,:11]\n",
    "test_x = test[:,:11]\n",
    "train_y = train[:,11]\n",
    "test_y = test[:,11]"
   ]
  },
  {
   "cell_type": "code",
   "execution_count": 23,
   "metadata": {},
   "outputs": [],
   "source": [
    "def make_model(learning_rate=0.001):\n",
    "    # number of categories in our problem\n",
    "    opt = optimizers.Adam(learning_rate)\n",
    "    model = Sequential()\n",
    "    # shape of input\n",
    "    model.add (Convolution1D(16, kernel_size=5, activation=activations.relu, padding=\"valid\", input_shape=(11,1)))\n",
    "    model.add (Dropout(rate=0.1))\n",
    "    model.add (Convolution1D(32, kernel_size=3, activation=activations.relu, padding=\"valid\"))\n",
    "    model.add (Dropout(rate=0.1))\n",
    "    model.add (Convolution1D(64, kernel_size=3, activation=activations.relu, padding=\"valid\"))\n",
    "    model.add (Dropout(rate=0.1))\n",
    "    model.add (Convolution1D(256, kernel_size=3, activation=activations.relu, padding=\"valid\"))\n",
    "    model.add (GlobalMaxPool1D())\n",
    "    model.add (Dropout(rate=0.1))\n",
    "    model.add (Dense(64, activation=activations.relu, name=\"dense_1\", kernel_regularizer=regularizers.l2(l=0.1)))\n",
    "    model.add (Dense(16, activation=activations.relu, name=\"dense_2\", kernel_regularizer=regularizers.l2(l=0.1)))\n",
    "    model.add (Dense(2, activation=activations.softmax, name=\"dense_3_ecg_view\"))\n",
    "    model.compile(optimizer=opt, loss=losses.sparse_categorical_crossentropy, metrics=['acc'])\n",
    "    return model"
   ]
  },
  {
   "cell_type": "code",
   "execution_count": 25,
   "metadata": {},
   "outputs": [
    {
     "name": "stdout",
     "output_type": "stream",
     "text": [
      "Epoch 1/1\n",
      "338424/338424 [==============================] - 38s 113us/step - loss: 0.4830 - acc: 0.8028\n",
      "Epoch 1/1\n",
      "338425/338425 [==============================] - 48s 140us/step - loss: 0.4817 - acc: 0.8042\n",
      "Epoch 1/1\n",
      "338425/338425 [==============================] - 44s 129us/step - loss: 0.4824 - acc: 0.8021\n",
      "Epoch 1/1\n",
      "338425/338425 [==============================] - 42s 125us/step - loss: 0.4891 - acc: 0.7971\n",
      "Epoch 1/1\n",
      "338425/338425 [==============================] - 40s 117us/step - loss: 0.4861 - acc: 0.8009\n",
      "Epoch 1/1\n",
      "338424/338424 [==============================] - 43s 127us/step - loss: 0.4582 - acc: 0.7906\n",
      "Epoch 1/1\n",
      "338425/338425 [==============================] - 41s 120us/step - loss: 0.4545 - acc: 0.7946\n",
      "Epoch 1/1\n",
      "338425/338425 [==============================] - 44s 129us/step - loss: 0.4577 - acc: 0.7918\n",
      "Epoch 1/1\n",
      "338425/338425 [==============================] - 43s 126us/step - loss: 0.4576 - acc: 0.7924\n",
      "Epoch 1/1\n",
      "338425/338425 [==============================] - 43s 127us/step - loss: 0.4619 - acc: 0.7940\n",
      "Epoch 1/1\n",
      "338424/338424 [==============================] - 50s 147us/step - loss: 1.0372 - acc: 0.6666\n",
      "Epoch 1/1\n",
      "338425/338425 [==============================] - 41s 122us/step - loss: 0.6840 - acc: 0.6666\n",
      "Epoch 1/1\n",
      "338425/338425 [==============================] - 39s 115us/step - loss: 0.6600 - acc: 0.6664\n",
      "Epoch 1/1\n",
      "338425/338425 [==============================] - 41s 121us/step - loss: 0.6582 - acc: 0.6672\n",
      "Epoch 1/1\n",
      "338425/338425 [==============================] - 46s 137us/step - loss: 0.6948 - acc: 0.6659\n",
      "Epoch 1/1\n",
      "338424/338424 [==============================] - 37s 110us/step - loss: 9942.7863 - acc: 0.6438\n",
      "Epoch 1/1\n",
      "338425/338425 [==============================] - 42s 124us/step - loss: 15991.0041 - acc: 0.6418\n",
      "Epoch 1/1\n",
      "338425/338425 [==============================] - 44s 131us/step - loss: 3124.2136 - acc: 0.6430\n",
      "Epoch 1/1\n",
      "338425/338425 [==============================] - 43s 127us/step - loss: 553837.3406 - acc: 0.6424\n",
      "Epoch 1/1\n",
      "338425/338425 [==============================] - 49s 146us/step - loss: 46207.5916 - acc: 0.6408\n",
      "Epoch 1/1\n",
      "423031/423031 [==============================] - 58s 137us/step - loss: 0.4667 - acc: 0.8051\n",
      "Best: 0.894632 using {'learning_rate': 0.001}\n"
     ]
    }
   ],
   "source": [
    "X_train = np.reshape(train_x, (train_x.shape[0], train_x.shape[1],1 ))\n",
    "X_test = np.reshape(test_x, (test_x.shape[0], test_x.shape[1],1 ))\n",
    "\n",
    "CNN = KerasClassifier(build_fn=make_model)\n",
    "\n",
    "# Grid Search to optimize the model \n",
    "parameters = {'learning_rate':[0.001, 0.01, 0.1, 1]}\n",
    "scoring = ['roc_auc', 'accuracy', 'f1']\n",
    "clf = GridSearchCV(CNN, parameters, scoring, refit = 'roc_auc')\n",
    "grid_result = clf.fit(X_train, train_y)\n",
    "\n",
    "print(\"Best: %f using %s\" % (grid_result.best_score_, grid_result.best_params_))"
   ]
  }
 ],
 "metadata": {
  "kernelspec": {
   "display_name": "Python 3",
   "language": "python",
   "name": "python3"
  },
  "language_info": {
   "codemirror_mode": {
    "name": "ipython",
    "version": 3
   },
   "file_extension": ".py",
   "mimetype": "text/x-python",
   "name": "python",
   "nbconvert_exporter": "python",
   "pygments_lexer": "ipython3",
   "version": "3.7.1"
  }
 },
 "nbformat": 4,
 "nbformat_minor": 4
}
